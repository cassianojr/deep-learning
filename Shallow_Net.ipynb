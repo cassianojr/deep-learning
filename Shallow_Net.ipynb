{
  "nbformat": 4,
  "nbformat_minor": 0,
  "metadata": {
    "kernelspec": {
      "display_name": "Python 3",
      "language": "python",
      "name": "python3"
    },
    "language_info": {
      "codemirror_mode": {
        "name": "ipython",
        "version": 3
      },
      "file_extension": ".py",
      "mimetype": "text/x-python",
      "name": "python",
      "nbconvert_exporter": "python",
      "pygments_lexer": "ipython3",
      "version": "3.6.5"
    },
    "colab": {
      "provenance": [],
      "include_colab_link": true
    },
    "accelerator": "GPU",
    "gpuClass": "standard"
  },
  "cells": [
    {
      "cell_type": "markdown",
      "metadata": {
        "id": "view-in-github",
        "colab_type": "text"
      },
      "source": [
        "<a href=\"https://colab.research.google.com/github/cassianojr/deep-learning/blob/main/Shallow_Net.ipynb\" target=\"_parent\"><img src=\"https://colab.research.google.com/assets/colab-badge.svg\" alt=\"Open In Colab\"/></a>"
      ]
    },
    {
      "cell_type": "markdown",
      "metadata": {
        "id": "mXKu_OA55qBw"
      },
      "source": [
        "\n",
        "\n",
        "```\n",
        "# Isto está formatado como código\n",
        "```\n",
        "\n",
        "# Shallow Neural Network in Keras"
      ]
    },
    {
      "cell_type": "markdown",
      "metadata": {
        "id": "MSSGZcQr5qBx"
      },
      "source": [
        "Build a shallow neural network to classify MNIST digits"
      ]
    },
    {
      "cell_type": "markdown",
      "metadata": {
        "id": "RywMXPrN5qBx"
      },
      "source": [
        "[![Open In Colab](https://colab.research.google.com/assets/colab-badge.svg)](https://colab.research.google.com/github/the-deep-learners/deep-learning-illustrated/blob/master/notebooks/shallow_net_in_keras.ipynb)"
      ]
    },
    {
      "cell_type": "markdown",
      "metadata": {
        "id": "0EiWsnlu5qBy"
      },
      "source": [
        "#### Load dependencies"
      ]
    },
    {
      "cell_type": "code",
      "metadata": {
        "id": "5WEeta6o5qBy"
      },
      "source": [
        "import tensorflow as tf\n",
        "import keras\n",
        "from keras.datasets import mnist\n",
        "from keras.models import Sequential\n",
        "from keras.layers import Dense\n",
        "from tensorflow.keras.optimizers import SGD\n",
        "from matplotlib import pyplot as plt"
      ],
      "execution_count": null,
      "outputs": []
    },
    {
      "cell_type": "markdown",
      "metadata": {
        "id": "oouoP7Y05qB2"
      },
      "source": [
        "#### Load data"
      ]
    },
    {
      "cell_type": "code",
      "metadata": {
        "scrolled": true,
        "id": "wur5LCHi5qB5"
      },
      "source": [
        "(X_train, y_train), (X_valid, y_valid) = mnist.load_data()"
      ],
      "execution_count": null,
      "outputs": []
    },
    {
      "cell_type": "code",
      "metadata": {
        "id": "DlVPFnMA5qB_",
        "colab": {
          "base_uri": "https://localhost:8080/"
        },
        "outputId": "64222847-4cbf-47f2-85df-2d6f334098d2"
      },
      "source": [
        "X_train.shape"
      ],
      "execution_count": null,
      "outputs": [
        {
          "output_type": "execute_result",
          "data": {
            "text/plain": [
              "(60000, 28, 28)"
            ]
          },
          "metadata": {},
          "execution_count": 20
        }
      ]
    },
    {
      "cell_type": "code",
      "metadata": {
        "id": "yzYNa9aD5qCJ",
        "colab": {
          "base_uri": "https://localhost:8080/"
        },
        "outputId": "776d842d-d37a-4121-c374-3f5278d2acfc"
      },
      "source": [
        "y_train.shape"
      ],
      "execution_count": null,
      "outputs": [
        {
          "output_type": "execute_result",
          "data": {
            "text/plain": [
              "(60000,)"
            ]
          },
          "metadata": {},
          "execution_count": 21
        }
      ]
    },
    {
      "cell_type": "code",
      "metadata": {
        "id": "5KrHGosu5qCL",
        "colab": {
          "base_uri": "https://localhost:8080/"
        },
        "outputId": "0422e643-2fca-44e8-f4b3-6dfe33881a4e"
      },
      "source": [
        "y_train[0:12]"
      ],
      "execution_count": null,
      "outputs": [
        {
          "output_type": "execute_result",
          "data": {
            "text/plain": [
              "array([5, 0, 4, 1, 9, 2, 1, 3, 1, 4, 3, 5], dtype=uint8)"
            ]
          },
          "metadata": {},
          "execution_count": 22
        }
      ]
    },
    {
      "cell_type": "code",
      "metadata": {
        "id": "tzwwOqW85qCN",
        "colab": {
          "base_uri": "https://localhost:8080/"
        },
        "outputId": "bbd95732-1eb8-41cb-8131-e05b2d6778c5"
      },
      "source": [
        "plt.figure(figsize=(5,5))\n",
        "for k in range(12):\n",
        "    plt.subplot(3, 4, k+1)\n",
        "    plt.imshow(X_train[k], cmap='Greys')\n",
        "    plt.axis('off')\n",
        "plt.tight_layout()\n",
        "plt.show()"
      ],
      "execution_count": null,
      "outputs": [
        {
          "output_type": "display_data",
          "data": {
            "text/plain": [
              "<Figure size 360x360 with 12 Axes>"
            ],
            "image/png": "[encoded data removed]"
          },
          "metadata": {
            "needs_background": "light"
          }
        }
      ]
    },
    {
      "cell_type": "code",
      "metadata": {
        "id": "73ncBdsn5qCQ",
        "colab": {
          "base_uri": "https://localhost:8080/"
        },
        "outputId": "5de51654-aed6-4207-ec45-864e4b427540"
      },
      "source": [
        "X_valid.shape"
      ],
      "execution_count": null,
      "outputs": [
        {
          "output_type": "execute_result",
          "data": {
            "text/plain": [
              "(10000, 28, 28)"
            ]
          },
          "metadata": {},
          "execution_count": 24
        }
      ]
    },
    {
      "cell_type": "code",
      "metadata": {
        "id": "IjYFIYXl5qCS",
        "colab": {
          "base_uri": "https://localhost:8080/"
        },
        "outputId": "103376ed-36cb-41ec-8b1e-fbe2e14e89ab"
      },
      "source": [
        "y_valid.shape"
      ],
      "execution_count": null,
      "outputs": [
        {
          "output_type": "execute_result",
          "data": {
            "text/plain": [
              "(10000,)"
            ]
          },
          "metadata": {},
          "execution_count": 25
        }
      ]
    },
    {
      "cell_type": "code",
      "metadata": {
        "id": "LoGjfd_e5qCU",
        "colab": {
          "base_uri": "https://localhost:8080/"
        },
        "outputId": "f5ef8c6f-b7d7-4083-cb30-c79a57bd3221"
      },
      "source": [
        "plt.imshow(X_valid[0], cmap='Greys')"
      ],
      "execution_count": null,
      "outputs": [
        {
          "output_type": "execute_result",
          "data": {
            "text/plain": [
              "<matplotlib.image.AxesImage at 0x7fa28b97dd50>"
            ]
          },
          "metadata": {},
          "execution_count": 26
        },
        {
          "output_type": "display_data",
          "data": {
            "text/plain": [
              "<Figure size 432x288 with 1 Axes>"
            ],
            "image/png": "[encoded data removed]"
          },
          "metadata": {
            "needs_background": "light"
          }
        }
      ]
    },
    {
      "cell_type": "code",
      "metadata": {
        "id": "P1mndEwG5qCX",
        "colab": {
          "base_uri": "https://localhost:8080/"
        },
        "outputId": "2e59fb3b-bf07-4925-ff83-85b0a747264f"
      },
      "source": [
        "X_valid[0]"
      ],
      "execution_count": null,
      "outputs": [
        {
          "output_type": "execute_result",
          "data": {
            "text/plain": [
              "array([[  0,   0,   0,   0,   0,   0,   0,   0,   0,   0,   0,   0,   0,\n",
              "          0,   0,   0,   0,   0,   0,   0,   0,   0,   0,   0,   0,   0,\n",
              "          0,   0],\n",
              "       [  0,   0,   0,   0,   0,   0,   0,   0,   0,   0,   0,   0,   0,\n",
              "          0,   0,   0,   0,   0,   0,   0,   0,   0,   0,   0,   0,   0,\n",
              "          0,   0],\n",
              "       [  0,   0,   0,   0,   0,   0,   0,   0,   0,   0,   0,   0,   0,\n",
              "          0,   0,   0,   0,   0,   0,   0,   0,   0,   0,   0,   0,   0,\n",
              "          0,   0],\n",
              "       [  0,   0,   0,   0,   0,   0,   0,   0,   0,   0,   0,   0,   0,\n",
              "          0,   0,   0,   0,   0,   0,   0,   0,   0,   0,   0,   0,   0,\n",
              "          0,   0],\n",
              "       [  0,   0,   0,   0,   0,   0,   0,   0,   0,   0,   0,   0,   0,\n",
              "          0,   0,   0,   0,   0,   0,   0,   0,   0,   0,   0,   0,   0,\n",
              "          0,   0],\n",
              "       [  0,   0,   0,   0,   0,   0,   0,   0,   0,   0,   0,   0,   0,\n",
              "          0,   0,   0,   0,   0,   0,   0,   0,   0,   0,   0,   0,   0,\n",
              "          0,   0],\n",
              "       [  0,   0,   0,   0,   0,   0,   0,   0,   0,   0,   0,   0,   0,\n",
              "          0,   0,   0,   0,   0,   0,   0,   0,   0,   0,   0,   0,   0,\n",
              "          0,   0],\n",
              "       [  0,   0,   0,   0,   0,   0,  84, 185, 159, 151,  60,  36,   0,\n",
              "          0,   0,   0,   0,   0,   0,   0,   0,   0,   0,   0,   0,   0,\n",
              "          0,   0],\n",
              "       [  0,   0,   0,   0,   0,   0, 222, 254, 254, 254, 254, 241, 198,\n",
              "        198, 198, 198, 198, 198, 198, 198, 170,  52,   0,   0,   0,   0,\n",
              "          0,   0],\n",
              "       [  0,   0,   0,   0,   0,   0,  67, 114,  72, 114, 163, 227, 254,\n",
              "        225, 254, 254, 254, 250, 229, 254, 254, 140,   0,   0,   0,   0,\n",
              "          0,   0],\n",
              "       [  0,   0,   0,   0,   0,   0,   0,   0,   0,   0,   0,  17,  66,\n",
              "         14,  67,  67,  67,  59,  21, 236, 254, 106,   0,   0,   0,   0,\n",
              "          0,   0],\n",
              "       [  0,   0,   0,   0,   0,   0,   0,   0,   0,   0,   0,   0,   0,\n",
              "          0,   0,   0,   0,   0,  83, 253, 209,  18,   0,   0,   0,   0,\n",
              "          0,   0],\n",
              "       [  0,   0,   0,   0,   0,   0,   0,   0,   0,   0,   0,   0,   0,\n",
              "          0,   0,   0,   0,  22, 233, 255,  83,   0,   0,   0,   0,   0,\n",
              "          0,   0],\n",
              "       [  0,   0,   0,   0,   0,   0,   0,   0,   0,   0,   0,   0,   0,\n",
              "          0,   0,   0,   0, 129, 254, 238,  44,   0,   0,   0,   0,   0,\n",
              "          0,   0],\n",
              "       [  0,   0,   0,   0,   0,   0,   0,   0,   0,   0,   0,   0,   0,\n",
              "          0,   0,   0,  59, 249, 254,  62,   0,   0,   0,   0,   0,   0,\n",
              "          0,   0],\n",
              "       [  0,   0,   0,   0,   0,   0,   0,   0,   0,   0,   0,   0,   0,\n",
              "          0,   0,   0, 133, 254, 187,   5,   0,   0,   0,   0,   0,   0,\n",
              "          0,   0],\n",
              "       [  0,   0,   0,   0,   0,   0,   0,   0,   0,   0,   0,   0,   0,\n",
              "          0,   0,   9, 205, 248,  58,   0,   0,   0,   0,   0,   0,   0,\n",
              "          0,   0],\n",
              "       [  0,   0,   0,   0,   0,   0,   0,   0,   0,   0,   0,   0,   0,\n",
              "          0,   0, 126, 254, 182,   0,   0,   0,   0,   0,   0,   0,   0,\n",
              "          0,   0],\n",
              "       [  0,   0,   0,   0,   0,   0,   0,   0,   0,   0,   0,   0,   0,\n",
              "          0,  75, 251, 240,  57,   0,   0,   0,   0,   0,   0,   0,   0,\n",
              "          0,   0],\n",
              "       [  0,   0,   0,   0,   0,   0,   0,   0,   0,   0,   0,   0,   0,\n",
              "         19, 221, 254, 166,   0,   0,   0,   0,   0,   0,   0,   0,   0,\n",
              "          0,   0],\n",
              "       [  0,   0,   0,   0,   0,   0,   0,   0,   0,   0,   0,   0,   3,\n",
              "        203, 254, 219,  35,   0,   0,   0,   0,   0,   0,   0,   0,   0,\n",
              "          0,   0],\n",
              "       [  0,   0,   0,   0,   0,   0,   0,   0,   0,   0,   0,   0,  38,\n",
              "        254, 254,  77,   0,   0,   0,   0,   0,   0,   0,   0,   0,   0,\n",
              "          0,   0],\n",
              "       [  0,   0,   0,   0,   0,   0,   0,   0,   0,   0,   0,  31, 224,\n",
              "        254, 115,   1,   0,   0,   0,   0,   0,   0,   0,   0,   0,   0,\n",
              "          0,   0],\n",
              "       [  0,   0,   0,   0,   0,   0,   0,   0,   0,   0,   0, 133, 254,\n",
              "        254,  52,   0,   0,   0,   0,   0,   0,   0,   0,   0,   0,   0,\n",
              "          0,   0],\n",
              "       [  0,   0,   0,   0,   0,   0,   0,   0,   0,   0,  61, 242, 254,\n",
              "        254,  52,   0,   0,   0,   0,   0,   0,   0,   0,   0,   0,   0,\n",
              "          0,   0],\n",
              "       [  0,   0,   0,   0,   0,   0,   0,   0,   0,   0, 121, 254, 254,\n",
              "        219,  40,   0,   0,   0,   0,   0,   0,   0,   0,   0,   0,   0,\n",
              "          0,   0],\n",
              "       [  0,   0,   0,   0,   0,   0,   0,   0,   0,   0, 121, 254, 207,\n",
              "         18,   0,   0,   0,   0,   0,   0,   0,   0,   0,   0,   0,   0,\n",
              "          0,   0],\n",
              "       [  0,   0,   0,   0,   0,   0,   0,   0,   0,   0,   0,   0,   0,\n",
              "          0,   0,   0,   0,   0,   0,   0,   0,   0,   0,   0,   0,   0,\n",
              "          0,   0]], dtype=uint8)"
            ]
          },
          "metadata": {},
          "execution_count": 27
        }
      ]
    },
    {
      "cell_type": "code",
      "metadata": {
        "id": "G9tmt7es5qCZ",
        "colab": {
          "base_uri": "https://localhost:8080/"
        },
        "outputId": "d653e16f-959c-465f-9c92-3a546abbe0b8"
      },
      "source": [
        "y_valid[0]"
      ],
      "execution_count": null,
      "outputs": [
        {
          "output_type": "execute_result",
          "data": {
            "text/plain": [
              "7"
            ]
          },
          "metadata": {},
          "execution_count": 28
        }
      ]
    },
    {
      "cell_type": "markdown",
      "metadata": {
        "id": "UvlV-jqg5qCb"
      },
      "source": [
        "#### Preprocess data"
      ]
    },
    {
      "cell_type": "code",
      "metadata": {
        "id": "QHvPQuhD5qCc"
      },
      "source": [
        "X_train = X_train.reshape(60000, 784).astype('float32')\n",
        "X_valid = X_valid.reshape(10000, 784).astype('float32')"
      ],
      "execution_count": null,
      "outputs": []
    },
    {
      "cell_type": "code",
      "metadata": {
        "id": "n5GyKPjt5qCe"
      },
      "source": [
        "X_train /= 255\n",
        "X_valid /= 255"
      ],
      "execution_count": null,
      "outputs": []
    },
    {
      "cell_type": "code",
      "metadata": {
        "id": "7hUsmolr5qCg",
        "colab": {
          "base_uri": "https://localhost:8080/"
        },
        "outputId": "3a3f7d36-1d03-4ef8-a209-502a6f9c2ae2"
      },
      "source": [
        "X_valid[0]"
      ],
      "execution_count": null,
      "outputs": [
        {
          "output_type": "execute_result",
          "data": {
            "text/plain": [
              "array([0.        , 0.        , 0.        , 0.        , 0.        ,\n",
              "       0.        , 0.        , 0.        , 0.        , 0.        ,\n",
              "       0.        , 0.        , 0.        , 0.        , 0.        ,\n",
              "       0.        , 0.        , 0.        , 0.        , 0.        ,\n",
              "       0.        , 0.        , 0.        , 0.        , 0.        ,\n",
              "       0.        , 0.        , 0.        , 0.        , 0.        ,\n",
              "       0.        , 0.        , 0.        , 0.        , 0.        ,\n",
              "       0.        , 0.        , 0.        , 0.        , 0.        ,\n",
              "       0.        , 0.        , 0.        , 0.        , 0.        ,\n",
              "       0.        , 0.        , 0.        , 0.        , 0.        ,\n",
              "       0.        , 0.        , 0.        , 0.        , 0.        ,\n",
              "       0.        , 0.        , 0.        , 0.        , 0.        ,\n",
              "       0.        , 0.        , 0.        , 0.        , 0.        ,\n",
              "       0.        , 0.        , 0.        , 0.        , 0.        ,\n",
              "       0.        , 0.        , 0.        , 0.        , 0.        ,\n",
              "       0.        , 0.        , 0.        , 0.        , 0.        ,\n",
              "       0.        , 0.        , 0.        , 0.        , 0.        ,\n",
              "       0.        , 0.        , 0.        , 0.        , 0.        ,\n",
              "       0.        , 0.        , 0.        , 0.        , 0.        ,\n",
              "       0.        , 0.        , 0.        , 0.        , 0.        ,\n",
              "       0.        , 0.        , 0.        , 0.        , 0.        ,\n",
              "       0.        , 0.        , 0.        , 0.        , 0.        ,\n",
              "       0.        , 0.        , 0.        , 0.        , 0.        ,\n",
              "       0.        , 0.        , 0.        , 0.        , 0.        ,\n",
              "       0.        , 0.        , 0.        , 0.        , 0.        ,\n",
              "       0.        , 0.        , 0.        , 0.        , 0.        ,\n",
              "       0.        , 0.        , 0.        , 0.        , 0.        ,\n",
              "       0.        , 0.        , 0.        , 0.        , 0.        ,\n",
              "       0.        , 0.        , 0.        , 0.        , 0.        ,\n",
              "       0.        , 0.        , 0.        , 0.        , 0.        ,\n",
              "       0.        , 0.        , 0.        , 0.        , 0.        ,\n",
              "       0.        , 0.        , 0.        , 0.        , 0.        ,\n",
              "       0.        , 0.        , 0.        , 0.        , 0.        ,\n",
              "       0.        , 0.        , 0.        , 0.        , 0.        ,\n",
              "       0.        , 0.        , 0.        , 0.        , 0.        ,\n",
              "       0.        , 0.        , 0.        , 0.        , 0.        ,\n",
              "       0.        , 0.        , 0.        , 0.        , 0.        ,\n",
              "       0.        , 0.        , 0.        , 0.        , 0.        ,\n",
              "       0.        , 0.        , 0.        , 0.        , 0.        ,\n",
              "       0.        , 0.        , 0.        , 0.        , 0.        ,\n",
              "       0.        , 0.        , 0.32941177, 0.7254902 , 0.62352943,\n",
              "       0.5921569 , 0.23529412, 0.14117648, 0.        , 0.        ,\n",
              "       0.        , 0.        , 0.        , 0.        , 0.        ,\n",
              "       0.        , 0.        , 0.        , 0.        , 0.        ,\n",
              "       0.        , 0.        , 0.        , 0.        , 0.        ,\n",
              "       0.        , 0.        , 0.        , 0.        , 0.        ,\n",
              "       0.87058824, 0.99607843, 0.99607843, 0.99607843, 0.99607843,\n",
              "       0.94509804, 0.7764706 , 0.7764706 , 0.7764706 , 0.7764706 ,\n",
              "       0.7764706 , 0.7764706 , 0.7764706 , 0.7764706 , 0.6666667 ,\n",
              "       0.20392157, 0.        , 0.        , 0.        , 0.        ,\n",
              "       0.        , 0.        , 0.        , 0.        , 0.        ,\n",
              "       0.        , 0.        , 0.        , 0.2627451 , 0.44705883,\n",
              "       0.28235295, 0.44705883, 0.6392157 , 0.8901961 , 0.99607843,\n",
              "       0.88235295, 0.99607843, 0.99607843, 0.99607843, 0.98039216,\n",
              "       0.8980392 , 0.99607843, 0.99607843, 0.54901963, 0.        ,\n",
              "       0.        , 0.        , 0.        , 0.        , 0.        ,\n",
              "       0.        , 0.        , 0.        , 0.        , 0.        ,\n",
              "       0.        , 0.        , 0.        , 0.        , 0.        ,\n",
              "       0.        , 0.06666667, 0.25882354, 0.05490196, 0.2627451 ,\n",
              "       0.2627451 , 0.2627451 , 0.23137255, 0.08235294, 0.9254902 ,\n",
              "       0.99607843, 0.41568628, 0.        , 0.        , 0.        ,\n",
              "       0.        , 0.        , 0.        , 0.        , 0.        ,\n",
              "       0.        , 0.        , 0.        , 0.        , 0.        ,\n",
              "       0.        , 0.        , 0.        , 0.        , 0.        ,\n",
              "       0.        , 0.        , 0.        , 0.        , 0.        ,\n",
              "       0.        , 0.3254902 , 0.99215686, 0.81960785, 0.07058824,\n",
              "       0.        , 0.        , 0.        , 0.        , 0.        ,\n",
              "       0.        , 0.        , 0.        , 0.        , 0.        ,\n",
              "       0.        , 0.        , 0.        , 0.        , 0.        ,\n",
              "       0.        , 0.        , 0.        , 0.        , 0.        ,\n",
              "       0.        , 0.        , 0.        , 0.08627451, 0.9137255 ,\n",
              "       1.        , 0.3254902 , 0.        , 0.        , 0.        ,\n",
              "       0.        , 0.        , 0.        , 0.        , 0.        ,\n",
              "       0.        , 0.        , 0.        , 0.        , 0.        ,\n",
              "       0.        , 0.        , 0.        , 0.        , 0.        ,\n",
              "       0.        , 0.        , 0.        , 0.        , 0.        ,\n",
              "       0.        , 0.5058824 , 0.99607843, 0.93333334, 0.17254902,\n",
              "       0.        , 0.        , 0.        , 0.        , 0.        ,\n",
              "       0.        , 0.        , 0.        , 0.        , 0.        ,\n",
              "       0.        , 0.        , 0.        , 0.        , 0.        ,\n",
              "       0.        , 0.        , 0.        , 0.        , 0.        ,\n",
              "       0.        , 0.        , 0.        , 0.23137255, 0.9764706 ,\n",
              "       0.99607843, 0.24313726, 0.        , 0.        , 0.        ,\n",
              "       0.        , 0.        , 0.        , 0.        , 0.        ,\n",
              "       0.        , 0.        , 0.        , 0.        , 0.        ,\n",
              "       0.        , 0.        , 0.        , 0.        , 0.        ,\n",
              "       0.        , 0.        , 0.        , 0.        , 0.        ,\n",
              "       0.        , 0.52156866, 0.99607843, 0.73333335, 0.01960784,\n",
              "       0.        , 0.        , 0.        , 0.        , 0.        ,\n",
              "       0.        , 0.        , 0.        , 0.        , 0.        ,\n",
              "       0.        , 0.        , 0.        , 0.        , 0.        ,\n",
              "       0.        , 0.        , 0.        , 0.        , 0.        ,\n",
              "       0.        , 0.        , 0.        , 0.03529412, 0.8039216 ,\n",
              "       0.972549  , 0.22745098, 0.        , 0.        , 0.        ,\n",
              "       0.        , 0.        , 0.        , 0.        , 0.        ,\n",
              "       0.        , 0.        , 0.        , 0.        , 0.        ,\n",
              "       0.        , 0.        , 0.        , 0.        , 0.        ,\n",
              "       0.        , 0.        , 0.        , 0.        , 0.        ,\n",
              "       0.        , 0.49411765, 0.99607843, 0.7137255 , 0.        ,\n",
              "       0.        , 0.        , 0.        , 0.        , 0.        ,\n",
              "       0.        , 0.        , 0.        , 0.        , 0.        ,\n",
              "       0.        , 0.        , 0.        , 0.        , 0.        ,\n",
              "       0.        , 0.        , 0.        , 0.        , 0.        ,\n",
              "       0.        , 0.        , 0.        , 0.29411766, 0.9843137 ,\n",
              "       0.9411765 , 0.22352941, 0.        , 0.        , 0.        ,\n",
              "       0.        , 0.        , 0.        , 0.        , 0.        ,\n",
              "       0.        , 0.        , 0.        , 0.        , 0.        ,\n",
              "       0.        , 0.        , 0.        , 0.        , 0.        ,\n",
              "       0.        , 0.        , 0.        , 0.        , 0.        ,\n",
              "       0.07450981, 0.8666667 , 0.99607843, 0.6509804 , 0.        ,\n",
              "       0.        , 0.        , 0.        , 0.        , 0.        ,\n",
              "       0.        , 0.        , 0.        , 0.        , 0.        ,\n",
              "       0.        , 0.        , 0.        , 0.        , 0.        ,\n",
              "       0.        , 0.        , 0.        , 0.        , 0.        ,\n",
              "       0.        , 0.        , 0.01176471, 0.79607844, 0.99607843,\n",
              "       0.85882354, 0.13725491, 0.        , 0.        , 0.        ,\n",
              "       0.        , 0.        , 0.        , 0.        , 0.        ,\n",
              "       0.        , 0.        , 0.        , 0.        , 0.        ,\n",
              "       0.        , 0.        , 0.        , 0.        , 0.        ,\n",
              "       0.        , 0.        , 0.        , 0.        , 0.        ,\n",
              "       0.14901961, 0.99607843, 0.99607843, 0.3019608 , 0.        ,\n",
              "       0.        , 0.        , 0.        , 0.        , 0.        ,\n",
              "       0.        , 0.        , 0.        , 0.        , 0.        ,\n",
              "       0.        , 0.        , 0.        , 0.        , 0.        ,\n",
              "       0.        , 0.        , 0.        , 0.        , 0.        ,\n",
              "       0.        , 0.        , 0.12156863, 0.8784314 , 0.99607843,\n",
              "       0.4509804 , 0.00392157, 0.        , 0.        , 0.        ,\n",
              "       0.        , 0.        , 0.        , 0.        , 0.        ,\n",
              "       0.        , 0.        , 0.        , 0.        , 0.        ,\n",
              "       0.        , 0.        , 0.        , 0.        , 0.        ,\n",
              "       0.        , 0.        , 0.        , 0.        , 0.        ,\n",
              "       0.52156866, 0.99607843, 0.99607843, 0.20392157, 0.        ,\n",
              "       0.        , 0.        , 0.        , 0.        , 0.        ,\n",
              "       0.        , 0.        , 0.        , 0.        , 0.        ,\n",
              "       0.        , 0.        , 0.        , 0.        , 0.        ,\n",
              "       0.        , 0.        , 0.        , 0.        , 0.        ,\n",
              "       0.        , 0.        , 0.23921569, 0.9490196 , 0.99607843,\n",
              "       0.99607843, 0.20392157, 0.        , 0.        , 0.        ,\n",
              "       0.        , 0.        , 0.        , 0.        , 0.        ,\n",
              "       0.        , 0.        , 0.        , 0.        , 0.        ,\n",
              "       0.        , 0.        , 0.        , 0.        , 0.        ,\n",
              "       0.        , 0.        , 0.        , 0.        , 0.        ,\n",
              "       0.4745098 , 0.99607843, 0.99607843, 0.85882354, 0.15686275,\n",
              "       0.        , 0.        , 0.        , 0.        , 0.        ,\n",
              "       0.        , 0.        , 0.        , 0.        , 0.        ,\n",
              "       0.        , 0.        , 0.        , 0.        , 0.        ,\n",
              "       0.        , 0.        , 0.        , 0.        , 0.        ,\n",
              "       0.        , 0.        , 0.        , 0.4745098 , 0.99607843,\n",
              "       0.8117647 , 0.07058824, 0.        , 0.        , 0.        ,\n",
              "       0.        , 0.        , 0.        , 0.        , 0.        ,\n",
              "       0.        , 0.        , 0.        , 0.        , 0.        ,\n",
              "       0.        , 0.        , 0.        , 0.        , 0.        ,\n",
              "       0.        , 0.        , 0.        , 0.        , 0.        ,\n",
              "       0.        , 0.        , 0.        , 0.        , 0.        ,\n",
              "       0.        , 0.        , 0.        , 0.        , 0.        ,\n",
              "       0.        , 0.        , 0.        , 0.        , 0.        ,\n",
              "       0.        , 0.        , 0.        , 0.        ], dtype=float32)"
            ]
          },
          "metadata": {},
          "execution_count": 31
        }
      ]
    },
    {
      "cell_type": "code",
      "metadata": {
        "id": "KDS3wGYt5qCi"
      },
      "source": [
        "n_classes = 10\n",
        "y_train = tf.keras.utils.to_categorical(y_train, n_classes)\n",
        "y_valid = tf.keras.utils.to_categorical(y_valid, n_classes)"
      ],
      "execution_count": null,
      "outputs": []
    },
    {
      "cell_type": "code",
      "metadata": {
        "id": "IpujSGOl5qCk",
        "colab": {
          "base_uri": "https://localhost:8080/"
        },
        "outputId": "68313ce0-c4e6-49b1-b95f-d49573d11b59"
      },
      "source": [
        "y_valid[0]"
      ],
      "execution_count": null,
      "outputs": [
        {
          "output_type": "execute_result",
          "data": {
            "text/plain": [
              "array([0., 0., 0., 0., 0., 0., 0., 1., 0., 0.], dtype=float32)"
            ]
          },
          "metadata": {},
          "execution_count": 33
        }
      ]
    },
    {
      "cell_type": "markdown",
      "metadata": {
        "id": "ySWHP3j-5qCm"
      },
      "source": [
        "#### Design neural network architecture"
      ]
    },
    {
      "cell_type": "code",
      "metadata": {
        "id": "lAK0YRm95qCm"
      },
      "source": [
        "model = Sequential()\n",
        "model.add(Dense(64, activation='sigmoid', input_shape=(784,)))\n",
        "model.add(Dense(10, activation='softmax'))"
      ],
      "execution_count": null,
      "outputs": []
    },
    {
      "cell_type": "code",
      "metadata": {
        "id": "xECwTk1U5qCo",
        "colab": {
          "base_uri": "https://localhost:8080/"
        },
        "outputId": "a82127e6-67f0-4e9e-e3b9-c5a61c4494cf"
      },
      "source": [
        "model.summary()"
      ],
      "execution_count": null,
      "outputs": [
        {
          "output_type": "stream",
          "name": "stdout",
          "text": [
            "Model: \"sequential\"\n",
            "_________________________________________________________________\n",
            " Layer (type)                Output Shape              Param #   \n",
            "=================================================================\n",
            " dense (Dense)               (None, 64)                50240     \n",
            "                                                                 \n",
            " dense_1 (Dense)             (None, 10)                650       \n",
            "                                                                 \n",
            "=================================================================\n",
            "Total params: 50,890\n",
            "Trainable params: 50,890\n",
            "Non-trainable params: 0\n",
            "_________________________________________________________________\n"
          ]
        }
      ]
    },
    {
      "cell_type": "code",
      "metadata": {
        "id": "-XkK02CP5qCq",
        "colab": {
          "base_uri": "https://localhost:8080/"
        },
        "outputId": "9f3dfe19-c165-4649-a097-90377640d361"
      },
      "source": [
        "(64*784)"
      ],
      "execution_count": null,
      "outputs": [
        {
          "output_type": "execute_result",
          "data": {
            "text/plain": [
              "50176"
            ]
          },
          "metadata": {},
          "execution_count": 36
        }
      ]
    },
    {
      "cell_type": "code",
      "metadata": {
        "id": "2FTyzUSd5qCs",
        "colab": {
          "base_uri": "https://localhost:8080/"
        },
        "outputId": "9096b1ac-a06f-4566-b1e1-4fb332c36fa6"
      },
      "source": [
        "(64*784)+64"
      ],
      "execution_count": null,
      "outputs": [
        {
          "output_type": "execute_result",
          "data": {
            "text/plain": [
              "50240"
            ]
          },
          "metadata": {},
          "execution_count": 37
        }
      ]
    },
    {
      "cell_type": "code",
      "metadata": {
        "id": "xlrq-5_e5qCv",
        "colab": {
          "base_uri": "https://localhost:8080/"
        },
        "outputId": "536ee78f-3223-4832-f1d1-08c6709735aa"
      },
      "source": [
        "(10*64)+10"
      ],
      "execution_count": null,
      "outputs": [
        {
          "output_type": "execute_result",
          "data": {
            "text/plain": [
              "650"
            ]
          },
          "metadata": {},
          "execution_count": 38
        }
      ]
    },
    {
      "cell_type": "markdown",
      "metadata": {
        "id": "Cpf4osO75qCy"
      },
      "source": [
        "#### Configure model"
      ]
    },
    {
      "cell_type": "code",
      "metadata": {
        "id": "8HxNpWUt5qCy"
      },
      "source": [
        "model.compile(loss='mean_squared_error', optimizer=SGD(learning_rate=0.1), metrics=['accuracy'])\n"
      ],
      "execution_count": null,
      "outputs": []
    },
    {
      "cell_type": "markdown",
      "metadata": {
        "id": "xQQ03Qpi5qC0"
      },
      "source": [
        "#### Train!"
      ]
    },
    {
      "cell_type": "code",
      "metadata": {
        "id": "iJGJCv8v5qC0",
        "colab": {
          "base_uri": "https://localhost:8080/"
        },
        "outputId": "a0cb36f6-110c-4850-e4ea-9820991959ff"
      },
      "source": [
        "number_of_epochs = 200\n",
        "\n",
        "history = model.fit(X_train, y_train, batch_size=128, epochs=number_of_epochs, verbose=1, validation_data=(X_valid, y_valid))"
      ],
      "execution_count": null,
      "outputs": [
        {
          "output_type": "stream",
          "name": "stdout",
          "text": [
            "Epoch 1/200\n",
            "469/469 [==============================] - 4s 4ms/step - loss: 0.0900 - accuracy: 0.2123 - val_loss: 0.0882 - val_accuracy: 0.2706\n",
            "Epoch 2/200\n",
            "469/469 [==============================] - 2s 3ms/step - loss: 0.0866 - accuracy: 0.3220 - val_loss: 0.0847 - val_accuracy: 0.3590\n",
            "Epoch 3/200\n",
            "469/469 [==============================] - 2s 3ms/step - loss: 0.0826 - accuracy: 0.3943 - val_loss: 0.0800 - val_accuracy: 0.4708\n",
            "Epoch 4/200\n",
            "469/469 [==============================] - 2s 3ms/step - loss: 0.0778 - accuracy: 0.4751 - val_loss: 0.0751 - val_accuracy: 0.4862\n",
            "Epoch 5/200\n",
            "469/469 [==============================] - 2s 4ms/step - loss: 0.0730 - accuracy: 0.5047 - val_loss: 0.0703 - val_accuracy: 0.5248\n",
            "Epoch 6/200\n",
            "469/469 [==============================] - 2s 4ms/step - loss: 0.0681 - accuracy: 0.5526 - val_loss: 0.0654 - val_accuracy: 0.5756\n",
            "Epoch 7/200\n",
            "469/469 [==============================] - 2s 3ms/step - loss: 0.0634 - accuracy: 0.5979 - val_loss: 0.0608 - val_accuracy: 0.6232\n",
            "Epoch 8/200\n",
            "469/469 [==============================] - 2s 3ms/step - loss: 0.0589 - accuracy: 0.6389 - val_loss: 0.0563 - val_accuracy: 0.6620\n",
            "Epoch 9/200\n",
            "469/469 [==============================] - 2s 3ms/step - loss: 0.0547 - accuracy: 0.6760 - val_loss: 0.0522 - val_accuracy: 0.7066\n",
            "Epoch 10/200\n",
            "469/469 [==============================] - 2s 4ms/step - loss: 0.0508 - accuracy: 0.7146 - val_loss: 0.0484 - val_accuracy: 0.7393\n",
            "Epoch 11/200\n",
            "469/469 [==============================] - 2s 3ms/step - loss: 0.0473 - accuracy: 0.7432 - val_loss: 0.0450 - val_accuracy: 0.7602\n",
            "Epoch 12/200\n",
            "469/469 [==============================] - 2s 3ms/step - loss: 0.0442 - accuracy: 0.7625 - val_loss: 0.0421 - val_accuracy: 0.7814\n",
            "Epoch 13/200\n",
            "469/469 [==============================] - 2s 3ms/step - loss: 0.0414 - accuracy: 0.7769 - val_loss: 0.0394 - val_accuracy: 0.7941\n",
            "Epoch 14/200\n",
            "469/469 [==============================] - 2s 3ms/step - loss: 0.0390 - accuracy: 0.7888 - val_loss: 0.0371 - val_accuracy: 0.8087\n",
            "Epoch 15/200\n",
            "469/469 [==============================] - 2s 3ms/step - loss: 0.0369 - accuracy: 0.8035 - val_loss: 0.0351 - val_accuracy: 0.8194\n",
            "Epoch 16/200\n",
            "469/469 [==============================] - 2s 4ms/step - loss: 0.0350 - accuracy: 0.8170 - val_loss: 0.0332 - val_accuracy: 0.8331\n",
            "Epoch 17/200\n",
            "469/469 [==============================] - 2s 4ms/step - loss: 0.0333 - accuracy: 0.8291 - val_loss: 0.0316 - val_accuracy: 0.8413\n",
            "Epoch 18/200\n",
            "469/469 [==============================] - 2s 3ms/step - loss: 0.0317 - accuracy: 0.8379 - val_loss: 0.0301 - val_accuracy: 0.8504\n",
            "Epoch 19/200\n",
            "469/469 [==============================] - 2s 3ms/step - loss: 0.0303 - accuracy: 0.8464 - val_loss: 0.0288 - val_accuracy: 0.8570\n",
            "Epoch 20/200\n",
            "469/469 [==============================] - 2s 4ms/step - loss: 0.0291 - accuracy: 0.8530 - val_loss: 0.0276 - val_accuracy: 0.8623\n",
            "Epoch 21/200\n",
            "469/469 [==============================] - 2s 3ms/step - loss: 0.0280 - accuracy: 0.8579 - val_loss: 0.0265 - val_accuracy: 0.8663\n",
            "Epoch 22/200\n",
            "469/469 [==============================] - 2s 4ms/step - loss: 0.0269 - accuracy: 0.8619 - val_loss: 0.0256 - val_accuracy: 0.8714\n",
            "Epoch 23/200\n",
            "469/469 [==============================] - 2s 3ms/step - loss: 0.0260 - accuracy: 0.8652 - val_loss: 0.0247 - val_accuracy: 0.8751\n",
            "Epoch 24/200\n",
            "469/469 [==============================] - 2s 3ms/step - loss: 0.0252 - accuracy: 0.8680 - val_loss: 0.0239 - val_accuracy: 0.8793\n",
            "Epoch 25/200\n",
            "469/469 [==============================] - 2s 3ms/step - loss: 0.0245 - accuracy: 0.8711 - val_loss: 0.0232 - val_accuracy: 0.8818\n",
            "Epoch 26/200\n",
            "469/469 [==============================] - 2s 4ms/step - loss: 0.0238 - accuracy: 0.8735 - val_loss: 0.0226 - val_accuracy: 0.8830\n",
            "Epoch 27/200\n",
            "469/469 [==============================] - 2s 5ms/step - loss: 0.0232 - accuracy: 0.8758 - val_loss: 0.0220 - val_accuracy: 0.8858\n",
            "Epoch 28/200\n",
            "469/469 [==============================] - 2s 3ms/step - loss: 0.0227 - accuracy: 0.8775 - val_loss: 0.0215 - val_accuracy: 0.8865\n",
            "Epoch 29/200\n",
            "469/469 [==============================] - 2s 3ms/step - loss: 0.0221 - accuracy: 0.8798 - val_loss: 0.0210 - val_accuracy: 0.8876\n",
            "Epoch 30/200\n",
            "469/469 [==============================] - 2s 3ms/step - loss: 0.0217 - accuracy: 0.8813 - val_loss: 0.0206 - val_accuracy: 0.8897\n",
            "Epoch 31/200\n",
            "469/469 [==============================] - 2s 3ms/step - loss: 0.0213 - accuracy: 0.8827 - val_loss: 0.0202 - val_accuracy: 0.8913\n",
            "Epoch 32/200\n",
            "469/469 [==============================] - 2s 4ms/step - loss: 0.0209 - accuracy: 0.8839 - val_loss: 0.0198 - val_accuracy: 0.8933\n",
            "Epoch 33/200\n",
            "469/469 [==============================] - 2s 4ms/step - loss: 0.0205 - accuracy: 0.8855 - val_loss: 0.0195 - val_accuracy: 0.8942\n",
            "Epoch 34/200\n",
            "469/469 [==============================] - 2s 4ms/step - loss: 0.0202 - accuracy: 0.8867 - val_loss: 0.0192 - val_accuracy: 0.8956\n",
            "Epoch 35/200\n",
            "469/469 [==============================] - 2s 3ms/step - loss: 0.0199 - accuracy: 0.8879 - val_loss: 0.0189 - val_accuracy: 0.8970\n",
            "Epoch 36/200\n",
            "469/469 [==============================] - 2s 3ms/step - loss: 0.0196 - accuracy: 0.8883 - val_loss: 0.0186 - val_accuracy: 0.8977\n",
            "Epoch 37/200\n",
            "469/469 [==============================] - 2s 4ms/step - loss: 0.0193 - accuracy: 0.8893 - val_loss: 0.0183 - val_accuracy: 0.8991\n",
            "Epoch 38/200\n",
            "469/469 [==============================] - 2s 3ms/step - loss: 0.0191 - accuracy: 0.8904 - val_loss: 0.0181 - val_accuracy: 0.8999\n",
            "Epoch 39/200\n",
            "469/469 [==============================] - 2s 4ms/step - loss: 0.0188 - accuracy: 0.8914 - val_loss: 0.0179 - val_accuracy: 0.9003\n",
            "Epoch 40/200\n",
            "469/469 [==============================] - 2s 4ms/step - loss: 0.0186 - accuracy: 0.8922 - val_loss: 0.0177 - val_accuracy: 0.9014\n",
            "Epoch 41/200\n",
            "469/469 [==============================] - 2s 3ms/step - loss: 0.0184 - accuracy: 0.8929 - val_loss: 0.0174 - val_accuracy: 0.9015\n",
            "Epoch 42/200\n",
            "469/469 [==============================] - 2s 4ms/step - loss: 0.0182 - accuracy: 0.8939 - val_loss: 0.0173 - val_accuracy: 0.9024\n",
            "Epoch 43/200\n",
            "469/469 [==============================] - 2s 4ms/step - loss: 0.0180 - accuracy: 0.8944 - val_loss: 0.0171 - val_accuracy: 0.9033\n",
            "Epoch 44/200\n",
            "469/469 [==============================] - 2s 3ms/step - loss: 0.0178 - accuracy: 0.8953 - val_loss: 0.0169 - val_accuracy: 0.9035\n",
            "Epoch 45/200\n",
            "469/469 [==============================] - 2s 4ms/step - loss: 0.0176 - accuracy: 0.8960 - val_loss: 0.0167 - val_accuracy: 0.9035\n",
            "Epoch 46/200\n",
            "469/469 [==============================] - 2s 5ms/step - loss: 0.0175 - accuracy: 0.8964 - val_loss: 0.0166 - val_accuracy: 0.9041\n",
            "Epoch 47/200\n",
            "469/469 [==============================] - 2s 4ms/step - loss: 0.0173 - accuracy: 0.8973 - val_loss: 0.0164 - val_accuracy: 0.9042\n",
            "Epoch 48/200\n",
            "469/469 [==============================] - 2s 3ms/step - loss: 0.0172 - accuracy: 0.8980 - val_loss: 0.0163 - val_accuracy: 0.9049\n",
            "Epoch 49/200\n",
            "469/469 [==============================] - 2s 4ms/step - loss: 0.0170 - accuracy: 0.8984 - val_loss: 0.0162 - val_accuracy: 0.9054\n",
            "Epoch 50/200\n",
            "469/469 [==============================] - 2s 4ms/step - loss: 0.0169 - accuracy: 0.8989 - val_loss: 0.0160 - val_accuracy: 0.9058\n",
            "Epoch 51/200\n",
            "469/469 [==============================] - 2s 3ms/step - loss: 0.0167 - accuracy: 0.8995 - val_loss: 0.0159 - val_accuracy: 0.9063\n",
            "Epoch 52/200\n",
            "469/469 [==============================] - 2s 3ms/step - loss: 0.0166 - accuracy: 0.9000 - val_loss: 0.0158 - val_accuracy: 0.9064\n",
            "Epoch 53/200\n",
            "469/469 [==============================] - 2s 3ms/step - loss: 0.0165 - accuracy: 0.9008 - val_loss: 0.0157 - val_accuracy: 0.9066\n",
            "Epoch 54/200\n",
            "469/469 [==============================] - 2s 3ms/step - loss: 0.0164 - accuracy: 0.9014 - val_loss: 0.0156 - val_accuracy: 0.9071\n",
            "Epoch 55/200\n",
            "469/469 [==============================] - 2s 4ms/step - loss: 0.0163 - accuracy: 0.9018 - val_loss: 0.0154 - val_accuracy: 0.9074\n",
            "Epoch 56/200\n",
            "469/469 [==============================] - 2s 3ms/step - loss: 0.0162 - accuracy: 0.9024 - val_loss: 0.0153 - val_accuracy: 0.9082\n",
            "Epoch 57/200\n",
            "469/469 [==============================] - 2s 3ms/step - loss: 0.0160 - accuracy: 0.9026 - val_loss: 0.0152 - val_accuracy: 0.9085\n",
            "Epoch 58/200\n",
            "469/469 [==============================] - 2s 4ms/step - loss: 0.0159 - accuracy: 0.9032 - val_loss: 0.0151 - val_accuracy: 0.9089\n",
            "Epoch 59/200\n",
            "469/469 [==============================] - 2s 4ms/step - loss: 0.0158 - accuracy: 0.9038 - val_loss: 0.0151 - val_accuracy: 0.9091\n",
            "Epoch 60/200\n",
            "469/469 [==============================] - 2s 3ms/step - loss: 0.0157 - accuracy: 0.9040 - val_loss: 0.0150 - val_accuracy: 0.9095\n",
            "Epoch 61/200\n",
            "469/469 [==============================] - 2s 3ms/step - loss: 0.0157 - accuracy: 0.9044 - val_loss: 0.0149 - val_accuracy: 0.9094\n",
            "Epoch 62/200\n",
            "469/469 [==============================] - 2s 4ms/step - loss: 0.0156 - accuracy: 0.9049 - val_loss: 0.0148 - val_accuracy: 0.9102\n",
            "Epoch 63/200\n",
            "469/469 [==============================] - 2s 3ms/step - loss: 0.0155 - accuracy: 0.9050 - val_loss: 0.0147 - val_accuracy: 0.9107\n",
            "Epoch 64/200\n",
            "469/469 [==============================] - 2s 3ms/step - loss: 0.0154 - accuracy: 0.9057 - val_loss: 0.0146 - val_accuracy: 0.9108\n",
            "Epoch 65/200\n",
            "469/469 [==============================] - 2s 3ms/step - loss: 0.0153 - accuracy: 0.9063 - val_loss: 0.0145 - val_accuracy: 0.9120\n",
            "Epoch 66/200\n",
            "469/469 [==============================] - 2s 4ms/step - loss: 0.0152 - accuracy: 0.9065 - val_loss: 0.0145 - val_accuracy: 0.9121\n",
            "Epoch 67/200\n",
            "469/469 [==============================] - 2s 3ms/step - loss: 0.0151 - accuracy: 0.9068 - val_loss: 0.0144 - val_accuracy: 0.9127\n",
            "Epoch 68/200\n",
            "469/469 [==============================] - 2s 3ms/step - loss: 0.0151 - accuracy: 0.9075 - val_loss: 0.0143 - val_accuracy: 0.9129\n",
            "Epoch 69/200\n",
            "469/469 [==============================] - 2s 4ms/step - loss: 0.0150 - accuracy: 0.9077 - val_loss: 0.0143 - val_accuracy: 0.9128\n",
            "Epoch 70/200\n",
            "469/469 [==============================] - 2s 4ms/step - loss: 0.0149 - accuracy: 0.9081 - val_loss: 0.0142 - val_accuracy: 0.9133\n",
            "Epoch 71/200\n",
            "469/469 [==============================] - 2s 4ms/step - loss: 0.0149 - accuracy: 0.9085 - val_loss: 0.0141 - val_accuracy: 0.9140\n",
            "Epoch 72/200\n",
            "469/469 [==============================] - 2s 4ms/step - loss: 0.0148 - accuracy: 0.9088 - val_loss: 0.0141 - val_accuracy: 0.9144\n",
            "Epoch 73/200\n",
            "469/469 [==============================] - 2s 4ms/step - loss: 0.0147 - accuracy: 0.9091 - val_loss: 0.0140 - val_accuracy: 0.9145\n",
            "Epoch 74/200\n",
            "469/469 [==============================] - 2s 4ms/step - loss: 0.0146 - accuracy: 0.9096 - val_loss: 0.0139 - val_accuracy: 0.9144\n",
            "Epoch 75/200\n",
            "469/469 [==============================] - 2s 4ms/step - loss: 0.0146 - accuracy: 0.9098 - val_loss: 0.0139 - val_accuracy: 0.9146\n",
            "Epoch 76/200\n",
            "469/469 [==============================] - 2s 3ms/step - loss: 0.0145 - accuracy: 0.9103 - val_loss: 0.0138 - val_accuracy: 0.9152\n",
            "Epoch 77/200\n",
            "469/469 [==============================] - 2s 3ms/step - loss: 0.0145 - accuracy: 0.9107 - val_loss: 0.0138 - val_accuracy: 0.9154\n",
            "Epoch 78/200\n",
            "469/469 [==============================] - 2s 3ms/step - loss: 0.0144 - accuracy: 0.9110 - val_loss: 0.0137 - val_accuracy: 0.9154\n",
            "Epoch 79/200\n",
            "469/469 [==============================] - 2s 4ms/step - loss: 0.0143 - accuracy: 0.9114 - val_loss: 0.0137 - val_accuracy: 0.9155\n",
            "Epoch 80/200\n",
            "469/469 [==============================] - 2s 4ms/step - loss: 0.0143 - accuracy: 0.9116 - val_loss: 0.0136 - val_accuracy: 0.9159\n",
            "Epoch 81/200\n",
            "469/469 [==============================] - 2s 4ms/step - loss: 0.0142 - accuracy: 0.9121 - val_loss: 0.0135 - val_accuracy: 0.9159\n",
            "Epoch 82/200\n",
            "469/469 [==============================] - 2s 3ms/step - loss: 0.0142 - accuracy: 0.9122 - val_loss: 0.0135 - val_accuracy: 0.9156\n",
            "Epoch 83/200\n",
            "469/469 [==============================] - 2s 3ms/step - loss: 0.0141 - accuracy: 0.9126 - val_loss: 0.0134 - val_accuracy: 0.9165\n",
            "Epoch 84/200\n",
            "469/469 [==============================] - 2s 3ms/step - loss: 0.0140 - accuracy: 0.9130 - val_loss: 0.0134 - val_accuracy: 0.9168\n",
            "Epoch 85/200\n",
            "469/469 [==============================] - 2s 3ms/step - loss: 0.0140 - accuracy: 0.9132 - val_loss: 0.0133 - val_accuracy: 0.9171\n",
            "Epoch 86/200\n",
            "469/469 [==============================] - 2s 3ms/step - loss: 0.0139 - accuracy: 0.9134 - val_loss: 0.0133 - val_accuracy: 0.9175\n",
            "Epoch 87/200\n",
            "469/469 [==============================] - 2s 3ms/step - loss: 0.0139 - accuracy: 0.9138 - val_loss: 0.0133 - val_accuracy: 0.9180\n",
            "Epoch 88/200\n",
            "469/469 [==============================] - 2s 3ms/step - loss: 0.0138 - accuracy: 0.9142 - val_loss: 0.0132 - val_accuracy: 0.9187\n",
            "Epoch 89/200\n",
            "469/469 [==============================] - 2s 3ms/step - loss: 0.0138 - accuracy: 0.9143 - val_loss: 0.0132 - val_accuracy: 0.9186\n",
            "Epoch 90/200\n",
            "469/469 [==============================] - 2s 3ms/step - loss: 0.0137 - accuracy: 0.9148 - val_loss: 0.0131 - val_accuracy: 0.9194\n",
            "Epoch 91/200\n",
            "469/469 [==============================] - 2s 4ms/step - loss: 0.0137 - accuracy: 0.9151 - val_loss: 0.0131 - val_accuracy: 0.9191\n",
            "Epoch 92/200\n",
            "469/469 [==============================] - 2s 4ms/step - loss: 0.0136 - accuracy: 0.9155 - val_loss: 0.0130 - val_accuracy: 0.9195\n",
            "Epoch 93/200\n",
            "469/469 [==============================] - 2s 4ms/step - loss: 0.0136 - accuracy: 0.9154 - val_loss: 0.0130 - val_accuracy: 0.9202\n",
            "Epoch 94/200\n",
            "469/469 [==============================] - 2s 4ms/step - loss: 0.0136 - accuracy: 0.9158 - val_loss: 0.0130 - val_accuracy: 0.9207\n",
            "Epoch 95/200\n",
            "469/469 [==============================] - 2s 4ms/step - loss: 0.0135 - accuracy: 0.9161 - val_loss: 0.0129 - val_accuracy: 0.9202\n",
            "Epoch 96/200\n",
            "469/469 [==============================] - 2s 3ms/step - loss: 0.0135 - accuracy: 0.9162 - val_loss: 0.0129 - val_accuracy: 0.9202\n",
            "Epoch 97/200\n",
            "469/469 [==============================] - 2s 3ms/step - loss: 0.0134 - accuracy: 0.9166 - val_loss: 0.0128 - val_accuracy: 0.9204\n",
            "Epoch 98/200\n",
            "469/469 [==============================] - 2s 3ms/step - loss: 0.0134 - accuracy: 0.9170 - val_loss: 0.0128 - val_accuracy: 0.9206\n",
            "Epoch 99/200\n",
            "469/469 [==============================] - 2s 3ms/step - loss: 0.0133 - accuracy: 0.9173 - val_loss: 0.0128 - val_accuracy: 0.9210\n",
            "Epoch 100/200\n",
            "469/469 [==============================] - 2s 4ms/step - loss: 0.0133 - accuracy: 0.9172 - val_loss: 0.0127 - val_accuracy: 0.9214\n",
            "Epoch 101/200\n",
            "469/469 [==============================] - 2s 3ms/step - loss: 0.0133 - accuracy: 0.9175 - val_loss: 0.0127 - val_accuracy: 0.9214\n",
            "Epoch 102/200\n",
            "469/469 [==============================] - 2s 3ms/step - loss: 0.0132 - accuracy: 0.9179 - val_loss: 0.0126 - val_accuracy: 0.9215\n",
            "Epoch 103/200\n",
            "469/469 [==============================] - 2s 3ms/step - loss: 0.0132 - accuracy: 0.9179 - val_loss: 0.0126 - val_accuracy: 0.9218\n",
            "Epoch 104/200\n",
            "469/469 [==============================] - 2s 3ms/step - loss: 0.0131 - accuracy: 0.9184 - val_loss: 0.0126 - val_accuracy: 0.9219\n",
            "Epoch 105/200\n",
            "469/469 [==============================] - 2s 3ms/step - loss: 0.0131 - accuracy: 0.9187 - val_loss: 0.0125 - val_accuracy: 0.9219\n",
            "Epoch 106/200\n",
            "469/469 [==============================] - 2s 3ms/step - loss: 0.0130 - accuracy: 0.9189 - val_loss: 0.0125 - val_accuracy: 0.9221\n",
            "Epoch 107/200\n",
            "469/469 [==============================] - 2s 4ms/step - loss: 0.0130 - accuracy: 0.9193 - val_loss: 0.0125 - val_accuracy: 0.9224\n",
            "Epoch 108/200\n",
            "469/469 [==============================] - 2s 3ms/step - loss: 0.0130 - accuracy: 0.9193 - val_loss: 0.0124 - val_accuracy: 0.9227\n",
            "Epoch 109/200\n",
            "469/469 [==============================] - 2s 4ms/step - loss: 0.0129 - accuracy: 0.9197 - val_loss: 0.0124 - val_accuracy: 0.9226\n",
            "Epoch 110/200\n",
            "469/469 [==============================] - 2s 3ms/step - loss: 0.0129 - accuracy: 0.9198 - val_loss: 0.0124 - val_accuracy: 0.9230\n",
            "Epoch 111/200\n",
            "469/469 [==============================] - 2s 3ms/step - loss: 0.0129 - accuracy: 0.9203 - val_loss: 0.0123 - val_accuracy: 0.9229\n",
            "Epoch 112/200\n",
            "469/469 [==============================] - 2s 3ms/step - loss: 0.0128 - accuracy: 0.9202 - val_loss: 0.0123 - val_accuracy: 0.9231\n",
            "Epoch 113/200\n",
            "469/469 [==============================] - 2s 3ms/step - loss: 0.0128 - accuracy: 0.9205 - val_loss: 0.0123 - val_accuracy: 0.9231\n",
            "Epoch 114/200\n",
            "469/469 [==============================] - 2s 3ms/step - loss: 0.0128 - accuracy: 0.9208 - val_loss: 0.0122 - val_accuracy: 0.9234\n",
            "Epoch 115/200\n",
            "469/469 [==============================] - 2s 3ms/step - loss: 0.0127 - accuracy: 0.9210 - val_loss: 0.0122 - val_accuracy: 0.9237\n",
            "Epoch 116/200\n",
            "469/469 [==============================] - 2s 3ms/step - loss: 0.0127 - accuracy: 0.9212 - val_loss: 0.0122 - val_accuracy: 0.9240\n",
            "Epoch 117/200\n",
            "469/469 [==============================] - 2s 3ms/step - loss: 0.0126 - accuracy: 0.9213 - val_loss: 0.0122 - val_accuracy: 0.9240\n",
            "Epoch 118/200\n",
            "469/469 [==============================] - 2s 3ms/step - loss: 0.0126 - accuracy: 0.9217 - val_loss: 0.0121 - val_accuracy: 0.9240\n",
            "Epoch 119/200\n",
            "469/469 [==============================] - 2s 4ms/step - loss: 0.0126 - accuracy: 0.9216 - val_loss: 0.0121 - val_accuracy: 0.9244\n",
            "Epoch 120/200\n",
            "469/469 [==============================] - 2s 3ms/step - loss: 0.0125 - accuracy: 0.9222 - val_loss: 0.0121 - val_accuracy: 0.9242\n",
            "Epoch 121/200\n",
            "469/469 [==============================] - 2s 3ms/step - loss: 0.0125 - accuracy: 0.9222 - val_loss: 0.0120 - val_accuracy: 0.9249\n",
            "Epoch 122/200\n",
            "469/469 [==============================] - 2s 4ms/step - loss: 0.0125 - accuracy: 0.9222 - val_loss: 0.0120 - val_accuracy: 0.9241\n",
            "Epoch 123/200\n",
            "469/469 [==============================] - 2s 4ms/step - loss: 0.0125 - accuracy: 0.9224 - val_loss: 0.0120 - val_accuracy: 0.9248\n",
            "Epoch 124/200\n",
            "469/469 [==============================] - 2s 3ms/step - loss: 0.0124 - accuracy: 0.9226 - val_loss: 0.0120 - val_accuracy: 0.9249\n",
            "Epoch 125/200\n",
            "469/469 [==============================] - 2s 3ms/step - loss: 0.0124 - accuracy: 0.9230 - val_loss: 0.0119 - val_accuracy: 0.9248\n",
            "Epoch 126/200\n",
            "469/469 [==============================] - 2s 3ms/step - loss: 0.0124 - accuracy: 0.9230 - val_loss: 0.0119 - val_accuracy: 0.9247\n",
            "Epoch 127/200\n",
            "469/469 [==============================] - 2s 4ms/step - loss: 0.0123 - accuracy: 0.9233 - val_loss: 0.0119 - val_accuracy: 0.9251\n",
            "Epoch 128/200\n",
            "469/469 [==============================] - 2s 3ms/step - loss: 0.0123 - accuracy: 0.9234 - val_loss: 0.0119 - val_accuracy: 0.9253\n",
            "Epoch 129/200\n",
            "469/469 [==============================] - 2s 3ms/step - loss: 0.0123 - accuracy: 0.9237 - val_loss: 0.0118 - val_accuracy: 0.9254\n",
            "Epoch 130/200\n",
            "469/469 [==============================] - 2s 3ms/step - loss: 0.0122 - accuracy: 0.9238 - val_loss: 0.0118 - val_accuracy: 0.9255\n",
            "Epoch 131/200\n",
            "469/469 [==============================] - 2s 3ms/step - loss: 0.0122 - accuracy: 0.9237 - val_loss: 0.0118 - val_accuracy: 0.9255\n",
            "Epoch 132/200\n",
            "469/469 [==============================] - 2s 3ms/step - loss: 0.0122 - accuracy: 0.9239 - val_loss: 0.0117 - val_accuracy: 0.9258\n",
            "Epoch 133/200\n",
            "469/469 [==============================] - 2s 3ms/step - loss: 0.0121 - accuracy: 0.9241 - val_loss: 0.0117 - val_accuracy: 0.9263\n",
            "Epoch 134/200\n",
            "469/469 [==============================] - 2s 4ms/step - loss: 0.0121 - accuracy: 0.9244 - val_loss: 0.0117 - val_accuracy: 0.9262\n",
            "Epoch 135/200\n",
            "469/469 [==============================] - 2s 3ms/step - loss: 0.0121 - accuracy: 0.9247 - val_loss: 0.0117 - val_accuracy: 0.9266\n",
            "Epoch 136/200\n",
            "469/469 [==============================] - 2s 3ms/step - loss: 0.0121 - accuracy: 0.9249 - val_loss: 0.0116 - val_accuracy: 0.9266\n",
            "Epoch 137/200\n",
            "469/469 [==============================] - 2s 4ms/step - loss: 0.0120 - accuracy: 0.9251 - val_loss: 0.0116 - val_accuracy: 0.9268\n",
            "Epoch 138/200\n",
            "469/469 [==============================] - 2s 4ms/step - loss: 0.0120 - accuracy: 0.9253 - val_loss: 0.0116 - val_accuracy: 0.9269\n",
            "Epoch 139/200\n",
            "469/469 [==============================] - 2s 3ms/step - loss: 0.0120 - accuracy: 0.9252 - val_loss: 0.0116 - val_accuracy: 0.9266\n",
            "Epoch 140/200\n",
            "469/469 [==============================] - 2s 3ms/step - loss: 0.0119 - accuracy: 0.9257 - val_loss: 0.0115 - val_accuracy: 0.9270\n",
            "Epoch 141/200\n",
            "469/469 [==============================] - 2s 4ms/step - loss: 0.0119 - accuracy: 0.9257 - val_loss: 0.0115 - val_accuracy: 0.9271\n",
            "Epoch 142/200\n",
            "469/469 [==============================] - 2s 4ms/step - loss: 0.0119 - accuracy: 0.9259 - val_loss: 0.0115 - val_accuracy: 0.9278\n",
            "Epoch 143/200\n",
            "469/469 [==============================] - 2s 4ms/step - loss: 0.0119 - accuracy: 0.9260 - val_loss: 0.0115 - val_accuracy: 0.9275\n",
            "Epoch 144/200\n",
            "469/469 [==============================] - 2s 4ms/step - loss: 0.0118 - accuracy: 0.9262 - val_loss: 0.0115 - val_accuracy: 0.9273\n",
            "Epoch 145/200\n",
            "469/469 [==============================] - 2s 3ms/step - loss: 0.0118 - accuracy: 0.9262 - val_loss: 0.0114 - val_accuracy: 0.9272\n",
            "Epoch 146/200\n",
            "469/469 [==============================] - 2s 4ms/step - loss: 0.0118 - accuracy: 0.9263 - val_loss: 0.0114 - val_accuracy: 0.9273\n",
            "Epoch 147/200\n",
            "469/469 [==============================] - 2s 4ms/step - loss: 0.0118 - accuracy: 0.9265 - val_loss: 0.0114 - val_accuracy: 0.9275\n",
            "Epoch 148/200\n",
            "469/469 [==============================] - 2s 3ms/step - loss: 0.0117 - accuracy: 0.9268 - val_loss: 0.0114 - val_accuracy: 0.9277\n",
            "Epoch 149/200\n",
            "469/469 [==============================] - 2s 3ms/step - loss: 0.0117 - accuracy: 0.9269 - val_loss: 0.0113 - val_accuracy: 0.9283\n",
            "Epoch 150/200\n",
            "469/469 [==============================] - 2s 3ms/step - loss: 0.0117 - accuracy: 0.9271 - val_loss: 0.0113 - val_accuracy: 0.9287\n",
            "Epoch 151/200\n",
            "469/469 [==============================] - 2s 4ms/step - loss: 0.0117 - accuracy: 0.9273 - val_loss: 0.0113 - val_accuracy: 0.9283\n",
            "Epoch 152/200\n",
            "469/469 [==============================] - 2s 3ms/step - loss: 0.0116 - accuracy: 0.9273 - val_loss: 0.0113 - val_accuracy: 0.9285\n",
            "Epoch 153/200\n",
            "469/469 [==============================] - 2s 3ms/step - loss: 0.0116 - accuracy: 0.9275 - val_loss: 0.0113 - val_accuracy: 0.9287\n",
            "Epoch 154/200\n",
            "469/469 [==============================] - 2s 4ms/step - loss: 0.0116 - accuracy: 0.9276 - val_loss: 0.0112 - val_accuracy: 0.9288\n",
            "Epoch 155/200\n",
            "469/469 [==============================] - 2s 4ms/step - loss: 0.0116 - accuracy: 0.9279 - val_loss: 0.0112 - val_accuracy: 0.9287\n",
            "Epoch 156/200\n",
            "469/469 [==============================] - 2s 4ms/step - loss: 0.0115 - accuracy: 0.9280 - val_loss: 0.0112 - val_accuracy: 0.9286\n",
            "Epoch 157/200\n",
            "469/469 [==============================] - 2s 3ms/step - loss: 0.0115 - accuracy: 0.9282 - val_loss: 0.0112 - val_accuracy: 0.9286\n",
            "Epoch 158/200\n",
            "469/469 [==============================] - 2s 3ms/step - loss: 0.0115 - accuracy: 0.9282 - val_loss: 0.0112 - val_accuracy: 0.9285\n",
            "Epoch 159/200\n",
            "469/469 [==============================] - 2s 4ms/step - loss: 0.0115 - accuracy: 0.9284 - val_loss: 0.0111 - val_accuracy: 0.9291\n",
            "Epoch 160/200\n",
            "469/469 [==============================] - 2s 4ms/step - loss: 0.0114 - accuracy: 0.9284 - val_loss: 0.0111 - val_accuracy: 0.9292\n",
            "Epoch 161/200\n",
            "469/469 [==============================] - 2s 3ms/step - loss: 0.0114 - accuracy: 0.9289 - val_loss: 0.0111 - val_accuracy: 0.9292\n",
            "Epoch 162/200\n",
            "469/469 [==============================] - 2s 4ms/step - loss: 0.0114 - accuracy: 0.9288 - val_loss: 0.0111 - val_accuracy: 0.9293\n",
            "Epoch 163/200\n",
            "469/469 [==============================] - 2s 3ms/step - loss: 0.0114 - accuracy: 0.9290 - val_loss: 0.0110 - val_accuracy: 0.9292\n",
            "Epoch 164/200\n",
            "469/469 [==============================] - 2s 4ms/step - loss: 0.0113 - accuracy: 0.9292 - val_loss: 0.0110 - val_accuracy: 0.9295\n",
            "Epoch 165/200\n",
            "469/469 [==============================] - 2s 4ms/step - loss: 0.0113 - accuracy: 0.9293 - val_loss: 0.0110 - val_accuracy: 0.9296\n",
            "Epoch 166/200\n",
            "469/469 [==============================] - 2s 4ms/step - loss: 0.0113 - accuracy: 0.9293 - val_loss: 0.0110 - val_accuracy: 0.9298\n",
            "Epoch 167/200\n",
            "469/469 [==============================] - 2s 4ms/step - loss: 0.0113 - accuracy: 0.9294 - val_loss: 0.0110 - val_accuracy: 0.9299\n",
            "Epoch 168/200\n",
            "469/469 [==============================] - 2s 3ms/step - loss: 0.0112 - accuracy: 0.9295 - val_loss: 0.0110 - val_accuracy: 0.9297\n",
            "Epoch 169/200\n",
            "469/469 [==============================] - 2s 3ms/step - loss: 0.0112 - accuracy: 0.9296 - val_loss: 0.0109 - val_accuracy: 0.9299\n",
            "Epoch 170/200\n",
            "469/469 [==============================] - 2s 3ms/step - loss: 0.0112 - accuracy: 0.9300 - val_loss: 0.0109 - val_accuracy: 0.9299\n",
            "Epoch 171/200\n",
            "469/469 [==============================] - 2s 3ms/step - loss: 0.0112 - accuracy: 0.9300 - val_loss: 0.0109 - val_accuracy: 0.9303\n",
            "Epoch 172/200\n",
            "469/469 [==============================] - 2s 3ms/step - loss: 0.0112 - accuracy: 0.9301 - val_loss: 0.0109 - val_accuracy: 0.9305\n",
            "Epoch 173/200\n",
            "469/469 [==============================] - 2s 3ms/step - loss: 0.0111 - accuracy: 0.9300 - val_loss: 0.0109 - val_accuracy: 0.9305\n",
            "Epoch 174/200\n",
            "469/469 [==============================] - 2s 4ms/step - loss: 0.0111 - accuracy: 0.9302 - val_loss: 0.0108 - val_accuracy: 0.9301\n",
            "Epoch 175/200\n",
            "469/469 [==============================] - 2s 4ms/step - loss: 0.0111 - accuracy: 0.9305 - val_loss: 0.0108 - val_accuracy: 0.9309\n",
            "Epoch 176/200\n",
            "469/469 [==============================] - 2s 3ms/step - loss: 0.0111 - accuracy: 0.9304 - val_loss: 0.0108 - val_accuracy: 0.9306\n",
            "Epoch 177/200\n",
            "469/469 [==============================] - 2s 4ms/step - loss: 0.0110 - accuracy: 0.9308 - val_loss: 0.0108 - val_accuracy: 0.9306\n",
            "Epoch 178/200\n",
            "469/469 [==============================] - 2s 3ms/step - loss: 0.0110 - accuracy: 0.9307 - val_loss: 0.0108 - val_accuracy: 0.9309\n",
            "Epoch 179/200\n",
            "469/469 [==============================] - 2s 4ms/step - loss: 0.0110 - accuracy: 0.9308 - val_loss: 0.0107 - val_accuracy: 0.9314\n",
            "Epoch 180/200\n",
            "469/469 [==============================] - 2s 3ms/step - loss: 0.0110 - accuracy: 0.9309 - val_loss: 0.0107 - val_accuracy: 0.9309\n",
            "Epoch 181/200\n",
            "469/469 [==============================] - 2s 4ms/step - loss: 0.0110 - accuracy: 0.9312 - val_loss: 0.0107 - val_accuracy: 0.9315\n",
            "Epoch 182/200\n",
            "469/469 [==============================] - 2s 3ms/step - loss: 0.0109 - accuracy: 0.9312 - val_loss: 0.0107 - val_accuracy: 0.9312\n",
            "Epoch 183/200\n",
            "469/469 [==============================] - 2s 4ms/step - loss: 0.0109 - accuracy: 0.9312 - val_loss: 0.0107 - val_accuracy: 0.9318\n",
            "Epoch 184/200\n",
            "469/469 [==============================] - 2s 4ms/step - loss: 0.0109 - accuracy: 0.9313 - val_loss: 0.0107 - val_accuracy: 0.9317\n",
            "Epoch 185/200\n",
            "469/469 [==============================] - 2s 5ms/step - loss: 0.0109 - accuracy: 0.9315 - val_loss: 0.0106 - val_accuracy: 0.9321\n",
            "Epoch 186/200\n",
            "469/469 [==============================] - 2s 4ms/step - loss: 0.0109 - accuracy: 0.9317 - val_loss: 0.0106 - val_accuracy: 0.9320\n",
            "Epoch 187/200\n",
            "469/469 [==============================] - 2s 4ms/step - loss: 0.0108 - accuracy: 0.9319 - val_loss: 0.0106 - val_accuracy: 0.9320\n",
            "Epoch 188/200\n",
            "469/469 [==============================] - 2s 3ms/step - loss: 0.0108 - accuracy: 0.9319 - val_loss: 0.0106 - val_accuracy: 0.9322\n",
            "Epoch 189/200\n",
            "469/469 [==============================] - 2s 3ms/step - loss: 0.0108 - accuracy: 0.9320 - val_loss: 0.0106 - val_accuracy: 0.9321\n",
            "Epoch 190/200\n",
            "469/469 [==============================] - 2s 3ms/step - loss: 0.0108 - accuracy: 0.9322 - val_loss: 0.0106 - val_accuracy: 0.9322\n",
            "Epoch 191/200\n",
            "469/469 [==============================] - 2s 3ms/step - loss: 0.0108 - accuracy: 0.9323 - val_loss: 0.0105 - val_accuracy: 0.9326\n",
            "Epoch 192/200\n",
            "469/469 [==============================] - 2s 4ms/step - loss: 0.0107 - accuracy: 0.9324 - val_loss: 0.0105 - val_accuracy: 0.9324\n",
            "Epoch 193/200\n",
            "469/469 [==============================] - 2s 3ms/step - loss: 0.0107 - accuracy: 0.9326 - val_loss: 0.0105 - val_accuracy: 0.9322\n",
            "Epoch 194/200\n",
            "469/469 [==============================] - 2s 4ms/step - loss: 0.0107 - accuracy: 0.9327 - val_loss: 0.0105 - val_accuracy: 0.9327\n",
            "Epoch 195/200\n",
            "469/469 [==============================] - 2s 4ms/step - loss: 0.0107 - accuracy: 0.9327 - val_loss: 0.0105 - val_accuracy: 0.9327\n",
            "Epoch 196/200\n",
            "469/469 [==============================] - 2s 4ms/step - loss: 0.0107 - accuracy: 0.9330 - val_loss: 0.0105 - val_accuracy: 0.9330\n",
            "Epoch 197/200\n",
            "469/469 [==============================] - 2s 4ms/step - loss: 0.0106 - accuracy: 0.9332 - val_loss: 0.0104 - val_accuracy: 0.9330\n",
            "Epoch 198/200\n",
            "469/469 [==============================] - 2s 4ms/step - loss: 0.0106 - accuracy: 0.9332 - val_loss: 0.0104 - val_accuracy: 0.9331\n",
            "Epoch 199/200\n",
            "469/469 [==============================] - 2s 3ms/step - loss: 0.0106 - accuracy: 0.9333 - val_loss: 0.0104 - val_accuracy: 0.9329\n",
            "Epoch 200/200\n",
            "469/469 [==============================] - 2s 4ms/step - loss: 0.0106 - accuracy: 0.9335 - val_loss: 0.0104 - val_accuracy: 0.9338\n"
          ]
        }
      ]
    },
    {
      "cell_type": "code",
      "source": [
        "acc = history.history['accuracy']\n",
        "val_acc = history.history['val_accuracy']\n",
        "loss = history.history['loss']\n",
        "val_loss = history.history['val_loss']\n",
        "\n",
        "epochs_range = range(number_of_epochs)\n",
        "\n",
        "plt.figure(figsize=(15, 15))\n",
        "plt.subplot(2, 2, 1)\n",
        "plt.plot(epochs_range, acc, label='Training Accuracy')\n",
        "plt.plot(epochs_range, val_acc, label='Validation Accuracy')\n",
        "plt.legend(loc='lower right')\n",
        "plt.title('Training and Validation Accuracy')\n",
        "\n",
        "plt.subplot(2, 2, 2)\n",
        "plt.plot(epochs_range, loss, label='Training Loss')\n",
        "plt.plot(epochs_range, val_loss, label='Validation Loss')\n",
        "plt.legend(loc='upper right')\n",
        "plt.title('Training and Validation Loss')\n",
        "plt.show()"
      ],
      "metadata": {
        "colab": {
          "base_uri": "https://localhost:8080/",
          "height": 435
        },
        "id": "j1cJEVqd0o-X",
        "outputId": "7f555943-8960-41c4-a19e-bd68a8b15ef3"
      },
      "execution_count": null,
      "outputs": [
        {
          "output_type": "display_data",
          "data": {
            "text/plain": [
              "<Figure size 1080x1080 with 2 Axes>"
            ],
            "image/png": "[encoded data removed]"
          },
          "metadata": {
            "needs_background": "light"
          }
        }
      ]
    },
    {
      "cell_type": "code",
      "metadata": {
        "id": "pnJNnC2u5qC5",
        "colab": {
          "base_uri": "https://localhost:8080/"
        },
        "outputId": "7f73ac78-43e1-4de6-8d02-d4ae76bc9881"
      },
      "source": [
        "model.evaluate(X_valid, y_valid)\n"
      ],
      "execution_count": null,
      "outputs": [
        {
          "output_type": "stream",
          "name": "stdout",
          "text": [
            "313/313 [==============================] - 1s 2ms/step - loss: 0.0104 - accuracy: 0.9338\n"
          ]
        },
        {
          "output_type": "execute_result",
          "data": {
            "text/plain": [
              "[0.010390992276370525, 0.9337999820709229]"
            ]
          },
          "metadata": {},
          "execution_count": 42
        }
      ]
    }
  ]
}